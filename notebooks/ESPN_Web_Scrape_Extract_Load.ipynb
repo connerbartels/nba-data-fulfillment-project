{
 "cells": [
  {
   "cell_type": "code",
   "execution_count": null,
   "id": "58f37b23-4e68-460e-9777-36baabb8fc54",
   "metadata": {},
   "outputs": [],
   "source": [
    "# ESPN NBA Web Scraping\n",
    "# This notebook scrapes NBA game data from ESPN's scoreboard page for April 13, 2025."
   ]
  },
  {
   "cell_type": "code",
   "execution_count": 73,
   "id": "11e1067f-ef98-4cd0-9e77-d42967659842",
   "metadata": {},
   "outputs": [],
   "source": [
    "# Step 1: Import necessary libraries\n",
    "import requests\n",
    "from bs4 import BeautifulSoup\n",
    "import pandas as pd"
   ]
  },
  {
   "cell_type": "code",
   "execution_count": 77,
   "id": "65e184ab-7835-4097-a6b0-107a7e3607f9",
   "metadata": {},
   "outputs": [
    {
     "name": "stdout",
     "output_type": "stream",
     "text": [
      "Status Code: 200\n",
      "        Date               Home Team Home Score              Away Team  \\\n",
      "0   20250413           Atlanta Hawks        117          Orlando Magic   \n",
      "1   20250413          Boston Celtics         93      Charlotte Hornets   \n",
      "2   20250413           Brooklyn Nets        105        New York Knicks   \n",
      "3   20250413     Cleveland Cavaliers        118         Indiana Pacers   \n",
      "4   20250413              Miami Heat        118     Washington Wizards   \n",
      "5   20250413      Philadelphia 76ers        102          Chicago Bulls   \n",
      "6   20250413         Milwaukee Bucks        140        Detroit Pistons   \n",
      "7   20250413         Houston Rockets        111         Denver Nuggets   \n",
      "8   20250413       Memphis Grizzlies        132       Dallas Mavericks   \n",
      "9   20250413  Minnesota Timberwolves        116              Utah Jazz   \n",
      "10  20250413    New Orleans Pelicans        100  Oklahoma City Thunder   \n",
      "11  20250413       San Antonio Spurs        125        Toronto Raptors   \n",
      "12  20250413   Golden State Warriors        119            LA Clippers   \n",
      "13  20250413  Portland Trail Blazers        109     Los Angeles Lakers   \n",
      "14  20250413        Sacramento Kings        109           Phoenix Suns   \n",
      "\n",
      "   Away Score  \n",
      "0         105  \n",
      "1          86  \n",
      "2         113  \n",
      "3         126  \n",
      "4         119  \n",
      "5         122  \n",
      "6         133  \n",
      "7         126  \n",
      "8          97  \n",
      "9         105  \n",
      "10        115  \n",
      "11        118  \n",
      "12        124  \n",
      "13         81  \n",
      "14         98  \n"
     ]
    }
   ],
   "source": [
    "# Step 2: Set up URL and request JSON data\n",
    "import requests\n",
    "import pandas as pd\n",
    "\n",
    "# URL for ESPN NBA scoreboard JSON data\n",
    "date = \"20250413\"\n",
    "url = f\"https://site.api.espn.com/apis/site/v2/sports/basketball/nba/scoreboard?dates={date}\"\n",
    "\n",
    "response = requests.get(url)\n",
    "print(\"Status Code:\", response.status_code)\n",
    "\n",
    "data = response.json()\n",
    "games = data['events']\n",
    "\n",
    "# Extract relevant data\n",
    "game_results = []\n",
    "\n",
    "for game in games:\n",
    "    competition = game['competitions'][0]\n",
    "    home = [team for team in competition['competitors'] if team['homeAway'] == 'home'][0]\n",
    "    away = [team for team in competition['competitors'] if team['homeAway'] == 'away'][0]\n",
    "\n",
    "    game_results.append({\n",
    "        'Date': date,\n",
    "        'Home Team': home['team']['displayName'],\n",
    "        'Home Score': home['score'],\n",
    "        'Away Team': away['team']['displayName'],\n",
    "        'Away Score': away['score']\n",
    "    })\n",
    "\n",
    "# Create DataFrame\n",
    "df = pd.DataFrame(game_results)\n",
    "print(df)\n",
    "\n",
    "# Save to CSV\n",
    "df.to_csv(\"nba_espn_scores_20250413.csv\", index=False)"
   ]
  }
 ],
 "metadata": {
  "kernelspec": {
   "display_name": "Python 3 (ipykernel)",
   "language": "python",
   "name": "python3"
  },
  "language_info": {
   "codemirror_mode": {
    "name": "ipython",
    "version": 3
   },
   "file_extension": ".py",
   "mimetype": "text/x-python",
   "name": "python",
   "nbconvert_exporter": "python",
   "pygments_lexer": "ipython3",
   "version": "3.12.7"
  }
 },
 "nbformat": 4,
 "nbformat_minor": 5
}
