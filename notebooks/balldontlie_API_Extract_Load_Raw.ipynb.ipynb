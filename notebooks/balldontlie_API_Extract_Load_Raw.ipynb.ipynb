{
 "cells": [
  {
   "cell_type": "code",
   "execution_count": 1,
   "id": "40bb7524-b3ee-41a9-a5f0-376e4e68cec6",
   "metadata": {},
   "outputs": [
    {
     "name": "stdout",
     "output_type": "stream",
     "text": [
      "Status Code: 200\n",
      "   id conference   division       city     name          full_name  \\\n",
      "0   1       East  Southeast    Atlanta    Hawks      Atlanta Hawks   \n",
      "1   2       East   Atlantic     Boston  Celtics     Boston Celtics   \n",
      "2   3       East   Atlantic   Brooklyn     Nets      Brooklyn Nets   \n",
      "3   4       East  Southeast  Charlotte  Hornets  Charlotte Hornets   \n",
      "4   5       East    Central    Chicago    Bulls      Chicago Bulls   \n",
      "\n",
      "  abbreviation  \n",
      "0          ATL  \n",
      "1          BOS  \n",
      "2          BKN  \n",
      "3          CHA  \n",
      "4          CHI  \n",
      "Data saved to nba_teams.csv\n"
     ]
    }
   ],
   "source": [
    "import requests\n",
    "import pandas as pd\n",
    "import os\n",
    "from dotenv import load_dotenv\n",
    "\n",
    "# Step 1: Load API key from .env file\n",
    "load_dotenv()\n",
    "api_key = os.getenv(\"API_KEY\")\n",
    "\n",
    "# Step 2: API endpoint to get all NBA teams\n",
    "url = \"https://api.balldontlie.io/v1/teams\"\n",
    "\n",
    "# Step 3: Headers to include the API key\n",
    "headers = {\n",
    "    \"Authorization\": api_key\n",
    "}\n",
    "\n",
    "# Step 4: Make the GET request\n",
    "response = requests.get(url, headers=headers)\n",
    "print(\"Status Code:\", response.status_code)\n",
    "\n",
    "# Step 5: Process response if successful\n",
    "if response.status_code == 200:\n",
    "    data = response.json()\n",
    "    teams = data['data']  # List of team dictionaries\n",
    "\n",
    "    # Step 6: Convert to DataFrame\n",
    "    df = pd.json_normalize(teams)\n",
    "    print(df.head())\n",
    "\n",
    "    # Step 7: Save to CSV\n",
    "    df.to_csv(\"nba_teams.csv\", index=False)\n",
    "    print(\"Data saved to nba_teams.csv\")\n",
    "else:\n",
    "    print(\"Failed to fetch data:\", response.status_code)"
   ]
  }
 ],
 "metadata": {
  "kernelspec": {
   "display_name": "Python 3 (ipykernel)",
   "language": "python",
   "name": "python3"
  },
  "language_info": {
   "codemirror_mode": {
    "name": "ipython",
    "version": 3
   },
   "file_extension": ".py",
   "mimetype": "text/x-python",
   "name": "python",
   "nbconvert_exporter": "python",
   "pygments_lexer": "ipython3",
   "version": "3.12.7"
  }
 },
 "nbformat": 4,
 "nbformat_minor": 5
}
